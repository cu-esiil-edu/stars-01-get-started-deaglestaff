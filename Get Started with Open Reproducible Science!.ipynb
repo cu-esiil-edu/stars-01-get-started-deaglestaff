{
  "cells": [
    {
      "cell_type": "markdown",
      "id": "3ba65d75-2be5-488a-9f43-e4a59a8b5bfe",
      "metadata": {},
      "source": [
        "# Climate change is impacting the way people live around the world\n",
        "\n",
        "::: {.cell .markdown}\n",
        "\n",
        "Higher highs, lower lows, storms, and smoke – we’re all feeling the\n",
        "effects of climate change. In this workflow, you will take a look at\n",
        "trends in temperature over time in Rapid City, SD.\n",
        "\n",
        "> **Important**\n",
        ">\n",
        "> [Read about some of the effects of – and solutions for – climate\n",
        "> change on the Pine Ridge Reservation southeast of Rapid\n",
        "> City.](https://www.theguardian.com/environment/2022/dec/03/south-dakota-reservation-food-desert-residents-transforming-crop-oasis)"
      ]
    },
    {
      "cell_type": "markdown",
      "id": "53740d30-5277-42a8-bc4f-4360e3d7d8e1",
      "metadata": {},
      "source": [
        "## Get started with open reproducible science!\n",
        "\n",
        "[Open reproducible\n",
        "science](https://www.earthdatascience.org/courses/intro-to-earth-data-science/open-reproducible-science/get-started-open-reproducible-science/)\n",
        "makes scientific methods, data and outcomes available to everyone. That\n",
        "means that *everyone* who wants should be able to **find**, **read**,\n",
        "**understand**, and **run** your workflows for themselves.\n",
        "\n",
        "<img src=\"https://www.earthdata.nasa.gov/s3fs-public/2021-11/Circle_Diagram_UPDATE_2.jpg?VersionId=pFRniRpjtgc_MEXUJKi9_sXLoMsSX.pB\" alt-text=\"Components of open science - accessible, reproducible, inclusive\" width=\"500\"/>\n",
        "\n",
        "> Image from\n",
        "> https://www.earthdata.nasa.gov/esds/open-science/oss-for-eso-workshops\n",
        "\n",
        "Few if any science projects are 100% open and reproducible (yet!).\n",
        "However, members of the open science community have developed open\n",
        "source tools and practices that can help you move toward that goal. You\n",
        "will learn about many of those tools in [the Intro to Earth Data Science\n",
        "textbook](https://www.earthdatascience.org/courses/intro-to-earth-data-science/).\n",
        "Don’t worry about learning all the tools at once – we’ve picked a few\n",
        "for you to get started with.\n",
        "\n",
        "------------------------------------------------------------------------"
      ]
    },
    {
      "cell_type": "markdown",
      "id": "583e7a46-2c45-4a73-9c05-e91c7a9b364e",
      "metadata": {},
      "source": [
        "> **<i class=\"fa fa-solid fa-glasses fa-large\" aria-label=\"glasses\"></i>\n",
        "> Further reading**\n",
        ">\n",
        "> Read [our textbook chapter about open reproducible\n",
        "> science](https://www.earthdatascience.org/courses/intro-to-earth-data-science/open-reproducible-science/get-started-open-reproducible-science/)."
      ]
    },
    {
      "cell_type": "markdown",
      "id": "c3114d2c-b428-4973-984d-4aca01eaaf40",
      "metadata": {},
      "source": [
        "> **<i class=\"fa fa-solid fa-pencil fa-large\" aria-label=\"pencil\"></i>\n",
        "> What does open reproducible science mean to you?**\n",
        ">\n",
        "> <i class=\"far fa-regular fa-square\" aria-label=\"square\"></i> Create a\n",
        "> new Markdown cell below this one using the `+ Markdown` button in the\n",
        "> upper left.\n",
        ">\n",
        "> <i class=\"far fa-regular fa-square\" aria-label=\"square\"></i> In the\n",
        "> new cell, answer the following questions using a **numbered list** in\n",
        "> Markdown:\n",
        ">\n",
        "> 1.  In 1-2 sentences, define open reproducible science.\n",
        "> 2.  In 1-2 sentences, choose one of the open source tools that you\n",
        ">     have learned about (i.e. Shell, Git/GitHub, Jupyter Notebook,\n",
        ">     Python) and explain how it supports open reproducible science."
      ]
    },
    {
      "cell_type": "markdown",
      "id": "7d2a5395-b8b0-4e20-9663-48b1a3399c12",
      "metadata": {},
      "source": [
        "## <i class=\"fa fa-solid fa-pencil fa-large\" aria-label=\"pencil\"></i> Human-readable and Machine-readable\n",
        "\n",
        "<i class=\"far fa-regular fa-square\" aria-label=\"square\"></i> Create a\n",
        "new Markdown cell below this one using the <kbd>ESC</kbd> + <kbd>b</kbd>\n",
        "keyboard shortcut.\n",
        "\n",
        "<i class=\"far fa-regular fa-square\" aria-label=\"square\"></i> In the new\n",
        "cell, answer the following question in a Markdown **quote**: In 1-2\n",
        "sentences, does this Jupyter Notebook file have a machine-readable name?\n",
        "Explain your answer."
      ]
    },
    {
      "cell_type": "markdown",
      "id": "3de20277-82c4-45d9-8725-5c06ca9f5dfa",
      "metadata": {},
      "source": [
        "------------------------------------------------------------------------\n",
        "\n",
        "## What the fork?! Who wrote this?\n",
        "\n",
        "Below is a scientific Python workflow. But something’s wrong – The code\n",
        "won’t run! Your task is to follow the instructions below to **clean and\n",
        "debug** the Python code below so that it runs.\n",
        "\n",
        "> **Tip**\n",
        ">\n",
        "> Don’t worry if you can’t solve every bug right away. We’ll get there!\n",
        "> The most important thing is to identify problems with the code and\n",
        "> write high-quality [**GitHub\n",
        "> Issues**](https://docs.github.com/en/issues/tracking-your-work-with-issues/creating-an-issue#creating-an-issue-from-a-repository).\n",
        "\n",
        "At the end, you’ll **repeat the workflow** for a location and\n",
        "measurement of your choosing.\n",
        "\n",
        "Alright! Let’s clean up this code. First things first…\n",
        "\n",
        "> **<i class=\"fa fa-solid fa-keyboard fa-large\" aria-label=\"keyboard\"></i>\n",
        "> Machine-readable file names**\n",
        ">\n",
        "> Rename this notebook (if necessary) with an [**expressive and\n",
        "> machine-readable file\n",
        "> name**](https://www.earthdatascience.org/courses/intro-to-earth-data-science/open-reproducible-science/get-started-open-reproducible-science/best-practices-for-organizing-open-reproducible-science/)\n",
        "\n",
        "------------------------------------------------------------------------\n",
        "\n",
        "## Python **packages** let you use code written by experts around the world\n",
        "\n",
        "Because Python is open source, lots of different people and\n",
        "organizations can contribute (including you!). Many contributions are in\n",
        "the form of **packages** which do not come with a standard Python\n",
        "download.\n",
        "\n",
        "> **<i class=\"fa fa-solid fa-glasses fa-large\" aria-label=\"glasses\"></i>\n",
        "> Read more**\n",
        ">\n",
        "> [Packages need to be installed and\n",
        "> **imported**](https://www.earthdatascience.org/courses/intro-to-earth-data-science/python-code-fundamentals/use-python-packages/).\n",
        "\n",
        "In the cell below, someone was trying to import the **pandas package**,\n",
        "which helps us to work with [**tabular data** such as comma-separated\n",
        "value or csv\n",
        "files](https://www.earthdatascience.org/courses/intro-to-earth-data-science/file-formats/use-text-files/)."
      ]
    },
    {
      "cell_type": "markdown",
      "id": "e5870204-b17d-4b98-9f96-99a7fe6221bc",
      "metadata": {},
      "source": [
        "> **<i class=\"fa fa-solid fa-keyboard fa-large\" aria-label=\"keyboard\"></i>\n",
        "> Your task**\n",
        ">\n",
        "> 1.  Correct the typo below to properly import the pandas package under\n",
        ">     its **alias** pd.\n",
        "> 2.  Run the cell to import pandas\n",
        ">\n",
        "> NOTE: **Run your code in the right **environment\\*\\* to avoid import\n",
        "> errors\\*\\*\n",
        ">\n",
        "> We’ve created a coding **environment** for you to use that already has\n",
        "> all the software and libraries you will need! When you try to run some\n",
        "> code, you may be prompted to select a **kernel**. The **kernel**\n",
        "> refers to the version of Python you are using. You should use the\n",
        "> **base** kernel, which should be the default option."
      ]
    },
    {
      "cell_type": "code",
      "execution_count": 1,
      "id": "5a5b429e",
      "metadata": {},
      "outputs": [],
      "source": [
        "# Import pandas\n",
        "import pandas as pd"
      ]
    },
    {
      "cell_type": "markdown",
      "id": "2915ef49-51ef-476d-9937-16b81306e8d8",
      "metadata": {},
      "source": [
        "Once you have run the cell above and imported `pandas`, **run the cell\n",
        "below**. It is a test cell that will tell you if you completed the task\n",
        "successfully. If a test cell isn’t working the way you expect, check\n",
        "that you ran your code **immediately before** running the test."
      ]
    },
    {
      "cell_type": "code",
      "execution_count": 2,
      "id": "1bdab32f",
      "metadata": {},
      "outputs": [
        {
          "name": "stdout",
          "output_type": "stream",
          "text": [
            "✅ Great work! You correctly imported the pandas library.\n",
            "You earned 5 of 5 points for importing pandas\n"
          ]
        }
      ],
      "source": [
        "# DO NOT MODIFY THIS TEST CELL\n",
        "points = 0\n",
        "try:\n",
        "    pd.DataFrame()\n",
        "    points += 5\n",
        "    print('\\u2705 Great work! You correctly imported the pandas library.')\n",
        "except:\n",
        "    print('\\u274C Oops - pandas was not imported correctly.')\n",
        "print('You earned {} of 5 points for importing pandas'.format(points))"
      ]
    },
    {
      "cell_type": "markdown",
      "id": "4d73f106-02a5-42cb-97cb-4f10393cd75f",
      "metadata": {},
      "source": [
        "------------------------------------------------------------------------\n",
        "\n",
        "## There are more Earth Observation data online than any one person could ever look at\n",
        "\n",
        "[NASA’s Earth Observing System Data and Information System (EOSDIS)\n",
        "alone manages over 9PB of\n",
        "data](https://www.earthdata.nasa.gov/learn/articles/getting-petabytes-people-how-eosdis-facilitates-earth-observing-data-discovery-and-use).\n",
        "1 PB is roughly 100 times the entire Library of Congress (a good\n",
        "approximation of all the books available in the US). It’s all available\n",
        "to **you** once you learn how to download what you want.\n",
        "\n",
        "Here we’re using the NOAA National Centers for Environmental Information\n",
        "(NCEI) [Access Data\n",
        "Service](https://www.ncei.noaa.gov/support/access-data-service-api-user-documentation)\n",
        "application progamming interface (API) to request data from their web\n",
        "servers. We will be using data collected as part of the Global\n",
        "Historical Climatology Network daily (GHCNd) from their [Climate Data\n",
        "Online library](https://www.ncdc.noaa.gov/cdo-web/datasets) program at\n",
        "NOAA.\n",
        "\n",
        "For this example we’re requesting [daily summary data in Rapid City, CO\n",
        "(station ID\n",
        "USC00396947)](https://www.ncdc.noaa.gov/cdo-web/datasets/GHCND/stations/GHCND:USC00396947/detail)."
      ]
    },
    {
      "cell_type": "markdown",
      "id": "a734b513-56c4-4cc7-a726-30d92c3a2684",
      "metadata": {},
      "source": [
        "> **<i class=\"fa fa-solid fa-pencil fa-large\" aria-label=\"pencil\"></i>\n",
        "> Your task:**\n",
        ">\n",
        "> 1.  Research the [**Global Historical Climatology Network -\n",
        ">     Daily**](https://www.ncei.noaa.gov/metadata/geoportal/rest/metadata/item/gov.noaa.ncdc:C00861/html)\n",
        ">     data source.\n",
        "> 2.  In the cell below, write a 2-3 sentence description of the data\n",
        ">     source. You should describe:\n",
        ">     -   who takes the data\n",
        ">     -   where the data were taken\n",
        ">     -   what the maximum temperature units are\n",
        ">     -   how the data are collected\n",
        "> 3.  Include a citation of the data (**HINT:** See the ‘Data Citation’\n",
        ">     tab on the GHCNd overview page)."
      ]
    },
    {
      "cell_type": "markdown",
      "id": "ba97c582-762c-47cc-875e-598c1bf76c58",
      "metadata": {},
      "source": [
        "**YOUR DATA DESCRIPTION AND CITATION HERE** 🛎️"
      ]
    },
    {
      "cell_type": "markdown",
      "id": "b36c08ff-774a-4df9-8c78-a0454a17209e",
      "metadata": {},
      "source": [
        "## You can access NCEI GHCNd Data from the internet using its API 🖥️ 📡 🖥️\n",
        "\n",
        "The cell below contains the URL for the data you will use in this part\n",
        "of the notebook. We created this URL by generating what is called an\n",
        "**API endpoint** using the NCEI [API\n",
        "documentation](https://www.ncei.noaa.gov/support/access-data-service-api-user-documentation).\n",
        "\n",
        "> **Note**\n",
        ">\n",
        "> An **application programming interface** (API) is a way for two or\n",
        "> more computer programs or components to communicate with each other.\n",
        "> It is a type of software interface, offering a service to other pieces\n",
        "> of software ([Wikipedia](https://en.wikipedia.org/wiki/API)).\n",
        "\n",
        "However, we still have a problem - we can’t get the URL back later on\n",
        "because it isn’t saved in a **variable**. In other words, we need to\n",
        "give the url a name so that we can request in from Python later (sadly,\n",
        "Python has no ‘hey what was that thingy I typed yesterday?’ function).\n",
        "\n",
        "> **<i class=\"fa fa-solid fa-glasses fa-large\" aria-label=\"glasses\"></i>\n",
        "> Read more**\n",
        ">\n",
        "> Check out the [textbook section on\n",
        "> variables](https://www.earthdatascience.org/courses/intro-to-earth-data-science/python-code-fundamentals/get-started-using-python/variables/)\n",
        "\n",
        "> **<i class=\"fa fa-solid fa-keyboard fa-large\" aria-label=\"keyboard\"></i>\n",
        "> Your task**\n",
        ">\n",
        "> 1.  Pick an expressive variable name for the URL. HINT: click on the\n",
        ">     `Variables` button up top to see all your variables. Your new url\n",
        ">     variable will not be there until you define it and run the code\n",
        "> 2.  Reformat the URL so that it adheres to the [79-character PEP-8\n",
        ">     line\n",
        ">     limit](https://peps.python.org/pep-0008/#maximum-line-length).You\n",
        ">     should see two vertical lines in each cell - don’t let your code\n",
        ">     go past the second line\n",
        "> 3.  At the end of the cell where you define your url variable, **call\n",
        ">     your variable (type out its name)** so it can be tested."
      ]
    },
    {
      "cell_type": "code",
      "execution_count": 9,
      "id": "766475ba",
      "metadata": {},
      "outputs": [
        {
          "data": {
            "text/plain": [
              "'https://www.ncei.noaa.gov/access/services/data/v1?dataset=daily-summaries&dataTypes=TOBS,PRCP&stations=USC00396947&startDate=1949-10-01&endDate=2024-05-05&includeStationName=true&includeStationLocation=1&units=standard'"
            ]
          },
          "execution_count": 9,
          "metadata": {},
          "output_type": "execute_result"
        }
      ],
      "source": [
        "rapid_city_sd_weather_data = ('https://www.ncei.noaa.gov/access/services/da'\n",
        "'ta/v1?dataset=daily-summaries&dataTypes=TOBS,PRCP&stations=USC00396947&startDate=1949-10-01&endDate=2024-05-05&includeStationName=true&includeStation'\n",
        "'Location=1&units=standard')\n",
        "rapid_city_sd_weather_data"
      ]
    },
    {
      "cell_type": "code",
      "execution_count": 6,
      "id": "8f00f424",
      "metadata": {},
      "outputs": [
        {
          "name": "stdout",
          "output_type": "stream",
          "text": [
            "✅ Great work! You correctly called your url variable.\n",
            "✅ Great work! Your url is the correct length.\n",
            "You earned 6 of 6 points for defining a url variable\n"
          ]
        }
      ],
      "source": [
        "# DO NOT MODIFY THIS TEST CELL\n",
        "resp_url = _\n",
        "points = 0\n",
        "\n",
        "if type(resp_url)==str:\n",
        "    points += 3\n",
        "    print('\\u2705 Great work! You correctly called your url variable.')\n",
        "else:\n",
        "    print('\\u274C Oops - your url variable was not called correctly.')\n",
        "\n",
        "if len(resp_url)==218:\n",
        "    points += 3\n",
        "    print('\\u2705 Great work! Your url is the correct length.')\n",
        "else:\n",
        "    print('\\u274C Oops - your url variable is not the correct length.')\n",
        "\n",
        "print('You earned {} of 6 points for defining a url variable'.format(points))"
      ]
    },
    {
      "cell_type": "markdown",
      "id": "dac2567a-74d4-4ac1-9499-477e4e45be01",
      "metadata": {},
      "source": [
        "------------------------------------------------------------------------\n",
        "\n",
        "## **Download and get started working with NCEI data**\n",
        "\n",
        "The `pandas` library you imported can download data from the internet\n",
        "directly into a type of Python **object** called a `DataFrame`. In the\n",
        "code cell below, you can see an attempt to do just this. But there are\n",
        "some problems…\n",
        "\n",
        "> **<i class=\"fa fa-solid fa-keyboard fa-large\" aria-label=\"keyboard\"></i>\n",
        "> You’re ready to fix some code!**\n",
        ">\n",
        "> Your task is to:\n",
        ">\n",
        "> 1.  Leave a space between the `#` and text in the comment and try\n",
        ">     making the comment more informative\n",
        ">\n",
        "> 2.  Make any changes needed to get this code to run. HINT: The\n",
        ">     `my_url` variable doesn’t exist - you need to replace it with the\n",
        ">     variable name **you** chose.\n",
        ">\n",
        "> 3.  Modify the `.read_csv()` statement to include the following\n",
        ">     parameters:\n",
        ">\n",
        ">     -   `index_col='DATE'` – this sets the `DATE` column as the index.\n",
        ">         Needed for subsetting and resampling later on\n",
        ">     -   `parse_dates=True` – this lets `python` know that you are\n",
        ">         working with time-series data, and values in the indexed\n",
        ">         column are **date time objects**\n",
        ">     -   `na_values=['NaN']` – this lets `python` know how to handle\n",
        ">         missing values\n",
        ">\n",
        "> 4.  Clean up the code by using **expressive variable names**,\n",
        ">     **expressive column names**, **PEP-8 compliant code**, and\n",
        ">     **descriptive comments**\n",
        "\n",
        "**Make sure to call your `DataFrame` by typing it’s name as the last\n",
        "line of your code cell** Then, you will be able to run the test cell\n",
        "below and find out if your answer is correct."
      ]
    },
    {
      "cell_type": "code",
      "execution_count": 10,
      "id": "773a3986",
      "metadata": {},
      "outputs": [
        {
          "data": {
            "text/html": [
              "<div>\n",
              "<style scoped>\n",
              "    .dataframe tbody tr th:only-of-type {\n",
              "        vertical-align: middle;\n",
              "    }\n",
              "\n",
              "    .dataframe tbody tr th {\n",
              "        vertical-align: top;\n",
              "    }\n",
              "\n",
              "    .dataframe thead th {\n",
              "        text-align: right;\n",
              "    }\n",
              "</style>\n",
              "<table border=\"1\" class=\"dataframe\">\n",
              "  <thead>\n",
              "    <tr style=\"text-align: right;\">\n",
              "      <th></th>\n",
              "      <th>STATION</th>\n",
              "      <th>NAME</th>\n",
              "      <th>LATITUDE</th>\n",
              "      <th>LONGITUDE</th>\n",
              "      <th>ELEVATION</th>\n",
              "      <th>PRCP</th>\n",
              "      <th>TOBS</th>\n",
              "    </tr>\n",
              "    <tr>\n",
              "      <th>DATE</th>\n",
              "      <th></th>\n",
              "      <th></th>\n",
              "      <th></th>\n",
              "      <th></th>\n",
              "      <th></th>\n",
              "      <th></th>\n",
              "      <th></th>\n",
              "    </tr>\n",
              "  </thead>\n",
              "  <tbody>\n",
              "    <tr>\n",
              "      <th>1949-10-01</th>\n",
              "      <td>USC00396947</td>\n",
              "      <td>RAPID CITY 4 NW, SD US</td>\n",
              "      <td>44.12055</td>\n",
              "      <td>-103.28417</td>\n",
              "      <td>1060.4</td>\n",
              "      <td>0.00</td>\n",
              "      <td>51.0</td>\n",
              "    </tr>\n",
              "    <tr>\n",
              "      <th>1949-10-02</th>\n",
              "      <td>USC00396947</td>\n",
              "      <td>RAPID CITY 4 NW, SD US</td>\n",
              "      <td>44.12055</td>\n",
              "      <td>-103.28417</td>\n",
              "      <td>1060.4</td>\n",
              "      <td>0.00</td>\n",
              "      <td>51.0</td>\n",
              "    </tr>\n",
              "    <tr>\n",
              "      <th>1949-10-03</th>\n",
              "      <td>USC00396947</td>\n",
              "      <td>RAPID CITY 4 NW, SD US</td>\n",
              "      <td>44.12055</td>\n",
              "      <td>-103.28417</td>\n",
              "      <td>1060.4</td>\n",
              "      <td>0.00</td>\n",
              "      <td>52.0</td>\n",
              "    </tr>\n",
              "    <tr>\n",
              "      <th>1949-10-04</th>\n",
              "      <td>USC00396947</td>\n",
              "      <td>RAPID CITY 4 NW, SD US</td>\n",
              "      <td>44.12055</td>\n",
              "      <td>-103.28417</td>\n",
              "      <td>1060.4</td>\n",
              "      <td>0.00</td>\n",
              "      <td>45.0</td>\n",
              "    </tr>\n",
              "    <tr>\n",
              "      <th>1949-10-05</th>\n",
              "      <td>USC00396947</td>\n",
              "      <td>RAPID CITY 4 NW, SD US</td>\n",
              "      <td>44.12055</td>\n",
              "      <td>-103.28417</td>\n",
              "      <td>1060.4</td>\n",
              "      <td>0.00</td>\n",
              "      <td>50.0</td>\n",
              "    </tr>\n",
              "    <tr>\n",
              "      <th>...</th>\n",
              "      <td>...</td>\n",
              "      <td>...</td>\n",
              "      <td>...</td>\n",
              "      <td>...</td>\n",
              "      <td>...</td>\n",
              "      <td>...</td>\n",
              "      <td>...</td>\n",
              "    </tr>\n",
              "    <tr>\n",
              "      <th>2024-04-30</th>\n",
              "      <td>USC00396947</td>\n",
              "      <td>RAPID CITY 4 NW, SD US</td>\n",
              "      <td>44.12055</td>\n",
              "      <td>-103.28417</td>\n",
              "      <td>1060.4</td>\n",
              "      <td>0.00</td>\n",
              "      <td>44.0</td>\n",
              "    </tr>\n",
              "    <tr>\n",
              "      <th>2024-05-01</th>\n",
              "      <td>USC00396947</td>\n",
              "      <td>RAPID CITY 4 NW, SD US</td>\n",
              "      <td>44.12055</td>\n",
              "      <td>-103.28417</td>\n",
              "      <td>1060.4</td>\n",
              "      <td>0.00</td>\n",
              "      <td>33.0</td>\n",
              "    </tr>\n",
              "    <tr>\n",
              "      <th>2024-05-02</th>\n",
              "      <td>USC00396947</td>\n",
              "      <td>RAPID CITY 4 NW, SD US</td>\n",
              "      <td>44.12055</td>\n",
              "      <td>-103.28417</td>\n",
              "      <td>1060.4</td>\n",
              "      <td>0.35</td>\n",
              "      <td>39.0</td>\n",
              "    </tr>\n",
              "    <tr>\n",
              "      <th>2024-05-04</th>\n",
              "      <td>USC00396947</td>\n",
              "      <td>RAPID CITY 4 NW, SD US</td>\n",
              "      <td>44.12055</td>\n",
              "      <td>-103.28417</td>\n",
              "      <td>1060.4</td>\n",
              "      <td>0.00</td>\n",
              "      <td>NaN</td>\n",
              "    </tr>\n",
              "    <tr>\n",
              "      <th>2024-05-05</th>\n",
              "      <td>USC00396947</td>\n",
              "      <td>RAPID CITY 4 NW, SD US</td>\n",
              "      <td>44.12055</td>\n",
              "      <td>-103.28417</td>\n",
              "      <td>1060.4</td>\n",
              "      <td>0.00</td>\n",
              "      <td>NaN</td>\n",
              "    </tr>\n",
              "  </tbody>\n",
              "</table>\n",
              "<p>26111 rows × 7 columns</p>\n",
              "</div>"
            ],
            "text/plain": [
              "                STATION                    NAME  LATITUDE  LONGITUDE  \\\n",
              "DATE                                                                   \n",
              "1949-10-01  USC00396947  RAPID CITY 4 NW, SD US  44.12055 -103.28417   \n",
              "1949-10-02  USC00396947  RAPID CITY 4 NW, SD US  44.12055 -103.28417   \n",
              "1949-10-03  USC00396947  RAPID CITY 4 NW, SD US  44.12055 -103.28417   \n",
              "1949-10-04  USC00396947  RAPID CITY 4 NW, SD US  44.12055 -103.28417   \n",
              "1949-10-05  USC00396947  RAPID CITY 4 NW, SD US  44.12055 -103.28417   \n",
              "...                 ...                     ...       ...        ...   \n",
              "2024-04-30  USC00396947  RAPID CITY 4 NW, SD US  44.12055 -103.28417   \n",
              "2024-05-01  USC00396947  RAPID CITY 4 NW, SD US  44.12055 -103.28417   \n",
              "2024-05-02  USC00396947  RAPID CITY 4 NW, SD US  44.12055 -103.28417   \n",
              "2024-05-04  USC00396947  RAPID CITY 4 NW, SD US  44.12055 -103.28417   \n",
              "2024-05-05  USC00396947  RAPID CITY 4 NW, SD US  44.12055 -103.28417   \n",
              "\n",
              "            ELEVATION  PRCP  TOBS  \n",
              "DATE                               \n",
              "1949-10-01     1060.4  0.00  51.0  \n",
              "1949-10-02     1060.4  0.00  51.0  \n",
              "1949-10-03     1060.4  0.00  52.0  \n",
              "1949-10-04     1060.4  0.00  45.0  \n",
              "1949-10-05     1060.4  0.00  50.0  \n",
              "...               ...   ...   ...  \n",
              "2024-04-30     1060.4  0.00  44.0  \n",
              "2024-05-01     1060.4  0.00  33.0  \n",
              "2024-05-02     1060.4  0.35  39.0  \n",
              "2024-05-04     1060.4  0.00   NaN  \n",
              "2024-05-05     1060.4  0.00   NaN  \n",
              "\n",
              "[26111 rows x 7 columns]"
            ]
          },
          "execution_count": 10,
          "metadata": {},
          "output_type": "execute_result"
        }
      ],
      "source": [
        "rapid_df = pd.read_csv(rapid_city_sd_weather_data,\n",
        "                       index_col='DATE',\n",
        "                       parse_dates=True,\n",
        "                       na_values=['NaN'])\n",
        "\n",
        "\n",
        "rapid_df"
      ]
    },
    {
      "cell_type": "code",
      "execution_count": 8,
      "id": "978430b4",
      "metadata": {},
      "outputs": [
        {
          "name": "stdout",
          "output_type": "stream",
          "text": [
            "✅ Great work! You called a DataFrame.\n",
            "You earned 1 of 2 points for downloading data\n"
          ]
        }
      ],
      "source": [
        "# DO NOT MODIFY THIS TEST CELL\n",
        "tmax_df_resp = _\n",
        "points = 0\n",
        "\n",
        "if isinstance(tmax_df_resp, pd.DataFrame):\n",
        "    points += 1\n",
        "    print('\\u2705 Great work! You called a DataFrame.')\n",
        "else:\n",
        "    print('\\u274C Oops - make sure to call your DataFrame for testing.')\n",
        "\n",
        "print('You earned {} of 2 points for downloading data'.format(points))"
      ]
    },
    {
      "cell_type": "markdown",
      "id": "73761fa0-ef7e-4903-9fef-5474f04541b1",
      "metadata": {},
      "source": [
        "> HINT: Check out the `type()` function below - you can use it to check\n",
        "> that your data is now in `DataFrame` type object"
      ]
    },
    {
      "cell_type": "code",
      "execution_count": 11,
      "id": "1c29bb5e",
      "metadata": {},
      "outputs": [
        {
          "data": {
            "text/plain": [
              "pandas.core.frame.DataFrame"
            ]
          },
          "execution_count": 11,
          "metadata": {},
          "output_type": "execute_result"
        }
      ],
      "source": [
        "# Check that the data was imported into a pandas DataFrame\n",
        "type(rapid_df)"
      ]
    },
    {
      "cell_type": "markdown",
      "id": "7a305c68-239c-4e89-a485-1e076fee657a",
      "metadata": {},
      "source": [
        "> **<i class=\"fa fa-solid fa-keyboard fa-large\" aria-label=\"keyboard\"></i>\n",
        "> Clean up your DataFrame**\n",
        ">\n",
        "> Use double brackets to only select the columns you want in your\n",
        "> DataFrame\n",
        "\n",
        "**Make sure to call your `DataFrame` by typing it’s name as the last\n",
        "line of your code cell** Then, you will be able to run the test cell\n",
        "below and find out if your answer is correct."
      ]
    },
    {
      "cell_type": "code",
      "execution_count": 12,
      "id": "e8b59161",
      "metadata": {},
      "outputs": [
        {
          "data": {
            "text/html": [
              "<div>\n",
              "<style scoped>\n",
              "    .dataframe tbody tr th:only-of-type {\n",
              "        vertical-align: middle;\n",
              "    }\n",
              "\n",
              "    .dataframe tbody tr th {\n",
              "        vertical-align: top;\n",
              "    }\n",
              "\n",
              "    .dataframe thead th {\n",
              "        text-align: right;\n",
              "    }\n",
              "</style>\n",
              "<table border=\"1\" class=\"dataframe\">\n",
              "  <thead>\n",
              "    <tr style=\"text-align: right;\">\n",
              "      <th></th>\n",
              "      <th>PRCP</th>\n",
              "      <th>TOBS</th>\n",
              "    </tr>\n",
              "    <tr>\n",
              "      <th>DATE</th>\n",
              "      <th></th>\n",
              "      <th></th>\n",
              "    </tr>\n",
              "  </thead>\n",
              "  <tbody>\n",
              "    <tr>\n",
              "      <th>1949-10-01</th>\n",
              "      <td>0.00</td>\n",
              "      <td>51.0</td>\n",
              "    </tr>\n",
              "    <tr>\n",
              "      <th>1949-10-02</th>\n",
              "      <td>0.00</td>\n",
              "      <td>51.0</td>\n",
              "    </tr>\n",
              "    <tr>\n",
              "      <th>1949-10-03</th>\n",
              "      <td>0.00</td>\n",
              "      <td>52.0</td>\n",
              "    </tr>\n",
              "    <tr>\n",
              "      <th>1949-10-04</th>\n",
              "      <td>0.00</td>\n",
              "      <td>45.0</td>\n",
              "    </tr>\n",
              "    <tr>\n",
              "      <th>1949-10-05</th>\n",
              "      <td>0.00</td>\n",
              "      <td>50.0</td>\n",
              "    </tr>\n",
              "    <tr>\n",
              "      <th>...</th>\n",
              "      <td>...</td>\n",
              "      <td>...</td>\n",
              "    </tr>\n",
              "    <tr>\n",
              "      <th>2024-04-30</th>\n",
              "      <td>0.00</td>\n",
              "      <td>44.0</td>\n",
              "    </tr>\n",
              "    <tr>\n",
              "      <th>2024-05-01</th>\n",
              "      <td>0.00</td>\n",
              "      <td>33.0</td>\n",
              "    </tr>\n",
              "    <tr>\n",
              "      <th>2024-05-02</th>\n",
              "      <td>0.35</td>\n",
              "      <td>39.0</td>\n",
              "    </tr>\n",
              "    <tr>\n",
              "      <th>2024-05-04</th>\n",
              "      <td>0.00</td>\n",
              "      <td>NaN</td>\n",
              "    </tr>\n",
              "    <tr>\n",
              "      <th>2024-05-05</th>\n",
              "      <td>0.00</td>\n",
              "      <td>NaN</td>\n",
              "    </tr>\n",
              "  </tbody>\n",
              "</table>\n",
              "<p>26111 rows × 2 columns</p>\n",
              "</div>"
            ],
            "text/plain": [
              "            PRCP  TOBS\n",
              "DATE                  \n",
              "1949-10-01  0.00  51.0\n",
              "1949-10-02  0.00  51.0\n",
              "1949-10-03  0.00  52.0\n",
              "1949-10-04  0.00  45.0\n",
              "1949-10-05  0.00  50.0\n",
              "...          ...   ...\n",
              "2024-04-30  0.00  44.0\n",
              "2024-05-01  0.00  33.0\n",
              "2024-05-02  0.35  39.0\n",
              "2024-05-04  0.00   NaN\n",
              "2024-05-05  0.00   NaN\n",
              "\n",
              "[26111 rows x 2 columns]"
            ]
          },
          "execution_count": 12,
          "metadata": {},
          "output_type": "execute_result"
        }
      ],
      "source": [
        "rapid_df = rapid_df[['PRCP', 'TOBS']]\n",
        "rapid_df"
      ]
    },
    {
      "cell_type": "code",
      "execution_count": 13,
      "id": "9d7eae53",
      "metadata": {},
      "outputs": [
        {
          "name": "stdout",
          "output_type": "stream",
          "text": [
            "❌ Oops - your data are not correct.\n",
            "You earned 0 of 5 points for downloading data\n"
          ]
        }
      ],
      "source": [
        "# DO NOT MODIFY THIS TEST CELL\n",
        "tmax_df_resp = _\n",
        "points = 0\n",
        "\n",
        "summary = [round(val, 2) for val in tmax_df_resp.mean().values]\n",
        "if summary == [0.05, 54.53]:\n",
        "    points += 4\n",
        "    print('\\u2705 Great work! You correctly downloaded data.')\n",
        "else:\n",
        "    print('\\u274C Oops - your data are not correct.')\n",
        "print('You earned {} of 5 points for downloading data'.format(points))"
      ]
    },
    {
      "cell_type": "markdown",
      "id": "dfd24004-e136-4a62-bd50-b3faf31da23d",
      "metadata": {},
      "source": [
        "------------------------------------------------------------------------\n",
        "\n",
        "## Plot the precpitation column (PRCP) vs time to explore the data\n",
        "\n",
        "Plotting in Python is easy, but not quite this easy:"
      ]
    },
    {
      "cell_type": "code",
      "execution_count": 15,
      "id": "e738bc01",
      "metadata": {},
      "outputs": [
        {
          "data": {
            "text/plain": [
              "<Axes: xlabel='DATE'>"
            ]
          },
          "execution_count": 15,
          "metadata": {},
          "output_type": "execute_result"
        },
        {
          "data": {
            "image/png": "[encoded data removed]",
            "text/plain": [
              "<Figure size 640x480 with 1 Axes>"
            ]
          },
          "metadata": {},
          "output_type": "display_data"
        }
      ],
      "source": [
        "rapid_df.plot(y=\"PRCP\")"
      ]
    },
    {
      "cell_type": "markdown",
      "id": "32d0e79e-8402-451d-8847-03dd0c28cd1d",
      "metadata": {},
      "source": [
        "> ****Label and describe your plots****\n",
        ">\n",
        "> <figure>\n",
        "> <img src=\"https://imgs.xkcd.com/comics/convincing.png\"\n",
        "> alt=\"Source: https://xkcd.com/833\" />\n",
        "> <figcaption aria-hidden=\"true\">Source: https://xkcd.com/833</figcaption>\n",
        "> </figure>\n",
        ">\n",
        "> Make sure each plot has:\n",
        ">\n",
        "> -   A title that explains where and when the data are from\n",
        "> -   x- and y- axis labels with **units** where appropriate\n",
        "> -   A legend where appropriate\n",
        "\n",
        "You’ll always need to add some instructions on labels and how you want\n",
        "your plot to look.\n",
        "\n",
        "> **<i class=\"fa fa-solid fa-keyboard fa-large\" aria-label=\"keyboard\"></i>\n",
        "> Your task:**\n",
        ">\n",
        "> 1.  Change `dataframe` to **your** `DataFrame` name.\n",
        "> 2.  Change `y=` to the name of your **observed temperature** column\n",
        ">     name.\n",
        "> 3.  Use the `title`, `ylabel`, and `xlabel` parameters to add key text\n",
        ">     to your plot.\n",
        "> 4.  Adjust the size of your figure using `figsize=(x,y)` where `x` is\n",
        ">     figure width and `y` is figure height\n",
        ">\n",
        "> > **HINT:** labels have to be a *type* in Python called a **string**.\n",
        "> > You can make a string by putting quotes around your label, just like\n",
        "> > the column names in the sample code (eg `y='TOBS'`)."
      ]
    },
    {
      "cell_type": "code",
      "execution_count": 18,
      "id": "d0222c8a",
      "metadata": {},
      "outputs": [
        {
          "data": {
            "text/plain": [
              "<Axes: title={'center': 'Rapid City precipition'}, xlabel='Years', ylabel='Inches'>"
            ]
          },
          "execution_count": 18,
          "metadata": {},
          "output_type": "execute_result"
        },
        {
          "data": {
            "image/png": "[encoded data removed]",
            "text/plain": [
              "<Figure size 640x480 with 1 Axes>"
            ]
          },
          "metadata": {},
          "output_type": "display_data"
        }
      ],
      "source": [
        "# Plot the data using .plot\n",
        "rapid_df.plot(\n",
        "    y='PRCP',\n",
        "    title='Rapid City precipition',\n",
        "    xlabel='Years',\n",
        "    ylabel='Inches')"
      ]
    },
    {
      "cell_type": "code",
      "execution_count": null,
      "id": "550e61c2",
      "metadata": {},
      "outputs": [],
      "source": []
    },
    {
      "cell_type": "code",
      "execution_count": 21,
      "id": "a463486a",
      "metadata": {},
      "outputs": [
        {
          "data": {
            "text/plain": [
              "<Axes: title={'center': 'Rapid City temperature'}, xlabel='Years', ylabel='Degrees F'>"
            ]
          },
          "execution_count": 21,
          "metadata": {},
          "output_type": "execute_result"
        },
        {
          "data": {
            "image/png": "[encoded data removed]",
            "text/plain": [
              "<Figure size 640x480 with 1 Axes>"
            ]
          },
          "metadata": {},
          "output_type": "display_data"
        }
      ],
      "source": [
        "# Plot the data using .plot\n",
        "rapid_df.plot(\n",
        "    y='TOBS',\n",
        "    title='Rapid City temperature',\n",
        "    xlabel='Years',\n",
        "    ylabel='Degrees F',\n",
        "    color=\"orange\")"
      ]
    },
    {
      "cell_type": "markdown",
      "id": "389c103b-dbf0-460d-aada-714937b99257",
      "metadata": {},
      "source": [
        "> **<i class=\"fa fa-solid fa-pepper-hot fa-large\" aria-label=\"pepper-hot\"></i>\n",
        "> Want an EXTRA CHALLENGE?**\n",
        ">\n",
        "> There are many other things you can do to customize your plot. Take a\n",
        "> look at the [pandas plotting\n",
        "> galleries](https://pandas.pydata.org/docs/user_guide/visualization.html)\n",
        "> and the [documentation of\n",
        "> plot](https://pandas.pydata.org/docs/reference/api/pandas.DataFrame.plot.html)\n",
        "> to see if there’s other changes you want to make to your plot. Some\n",
        "> possibilities include:\n",
        ">\n",
        "> -   Remove the legend since there’s only one data series\n",
        "> -   Increase the figure size\n",
        "> -   Increase the font size\n",
        "> -   Change the colors\n",
        "> -   Use a bar graph instead (usually we use lines for time series, but\n",
        ">     since this is annual it could go either way)\n",
        "> -   Add a trend line\n",
        ">\n",
        "> Not sure how to do any of these? Try searching the internet, or asking\n",
        "> an AI!\n",
        "\n",
        "------------------------------------------------------------------------\n",
        "\n",
        "> **<i class=\"fa fa-solid fa-pepper-hot fa-large\" aria-label=\"pepper-hot\"></i>\n",
        "> Convert units**\n",
        ">\n",
        "> Modify the code below to **add a column that includes temperature in\n",
        "> Celsius**. The code below was written by your colleague. Can you fix\n",
        "> this so that it correctly calculates temperature in Celsius and adds a\n",
        "> new column?"
      ]
    },
    {
      "cell_type": "code",
      "execution_count": 18,
      "id": "74adb0ac",
      "metadata": {},
      "outputs": [],
      "source": [
        "# Convert to celcius\n",
        "dataframe.loc[:, 'TCel'] = dataframe['temperature_col_name'] - 32 * 5 / 9\n",
        "dataframe"
      ]
    },
    {
      "cell_type": "code",
      "execution_count": 20,
      "id": "4b7c82bf",
      "metadata": {},
      "outputs": [],
      "source": [
        "# DO NOT MODIFY THIS TEST CELL\n",
        "tmax_df_resp = _\n",
        "points = 0\n",
        "\n",
        "if isinstance(tmax_df_resp, pd.DataFrame):\n",
        "    points += 1\n",
        "    print('\\u2705 Great work! You called a DataFrame.')\n",
        "else:\n",
        "    print('\\u274C Oops - make sure to call your DataFrame for testing.')\n",
        "\n",
        "summary = [round(val, 2) for val in tmax_df_resp.mean().values]\n",
        "if summary == [0.05, 54.53, 12.52]:\n",
        "    points += 4\n",
        "    print('\\u2705 Great work! You correctly converted to Celcius.')\n",
        "else:\n",
        "    print('\\u274C Oops - your data are not correct.')\n",
        "print('You earned {} of 5 points for converting to Celcius'.format(points))"
      ]
    },
    {
      "cell_type": "markdown",
      "id": "fc0f528f-e9bb-4f80-9b5a-04d64fa6675a",
      "metadata": {},
      "source": [
        "> **<i class=\"fa fa-solid fa-pepper-hot fa-large\" aria-label=\"pepper-hot\"></i>\n",
        "> Want an EXTRA CHALLENGE?**\n",
        ">\n",
        "> 1.  As you did above, rewrite the code to be more expressive\n",
        "> 2.  Using the code below as a framework, write and apply a\n",
        ">     **function** that converts to Celcius. \\> **Functions** let you\n",
        ">     reuse code you have already written\n",
        "> 3.  You should also rewrite this function and parameter names to be\n",
        ">     more expressive."
      ]
    },
    {
      "cell_type": "code",
      "execution_count": 21,
      "id": "0d6138d5",
      "metadata": {},
      "outputs": [],
      "source": [
        "def a_function(a_parameter):\n",
        "    \"\"\"Convert temperature to Celcius\"\"\"\n",
        "    return a_parameter # Put your equation in here\n",
        "\n",
        "dataframe['celcius_column'] = dataframe['fahrenheit_column'].apply(convert)"
      ]
    },
    {
      "cell_type": "markdown",
      "id": "e483b8d5-d619-42d4-bb83-360356b47fd6",
      "metadata": {},
      "source": [
        "## Subsetting and Resampling\n",
        "\n",
        "Often when working with time-series data you may want to focus on a\n",
        "shorter window of time, or look at weekly, monthly, or annual summaries\n",
        "to help make the analysis more manageable.\n",
        "\n",
        "> **<i class=\"fa fa-solid fa-glasses fa-large\" aria-label=\"glasses\"></i>\n",
        "> Read more**\n",
        ">\n",
        "> Read more about\n",
        "> [subsetting](https://www.earthdatascience.org/courses/use-data-open-source-python/use-time-series-data-in-python/date-time-types-in-pandas-python/subset-time-series-data-python/)\n",
        "> and\n",
        "> [resampling](https://www.earthdatascience.org/courses/use-data-open-source-python/use-time-series-data-in-python/date-time-types-in-pandas-python/resample-time-series-data-pandas-python/)\n",
        "> time-series data in our Learning Portal.\n",
        "\n",
        "For this demonstration, we will look at the last 40 years worth of data\n",
        "and resample to explore a summary from each year that data were\n",
        "recorded.\n",
        "\n",
        "> **<i class=\"fa fa-solid fa-keyboard fa-large\" aria-label=\"keyboard\"></i>\n",
        "> Your task**\n",
        ">\n",
        "> 1.  Replace `start-year` and `end-year` with 1983 and 2023\n",
        "> 2.  Replace `dataframe` with the name of **your** data\n",
        "> 3.  Replace `new_dataframe` with something more expressive\n",
        "> 4.  Call your new variable\n",
        "> 5.  Run the cell"
      ]
    },
    {
      "cell_type": "code",
      "execution_count": 23,
      "id": "d609931f",
      "metadata": {},
      "outputs": [],
      "source": [
        "# Subset the data\n",
        "new_dataframe = dataframe.loc['start-year':'end-year']\n",
        "new_dataframe"
      ]
    },
    {
      "cell_type": "code",
      "execution_count": 25,
      "id": "25adc542",
      "metadata": {},
      "outputs": [],
      "source": [
        "# DO NOT MODIFY THIS TEST CELL\n",
        "df_resp = _\n",
        "points = 0\n",
        "\n",
        "if isinstance(df_resp, pd.DataFrame):\n",
        "    points += 1\n",
        "    print('\\u2705 Great work! You called a DataFrame.')\n",
        "else:\n",
        "    print('\\u274C Oops - make sure to call your DataFrame for testing.')\n",
        "\n",
        "summary = [round(val, 2) for val in df_resp.mean().values]\n",
        "if summary == [0.06, 55.67, 13.15]:\n",
        "    points += 5\n",
        "    print('\\u2705 Great work! You correctly converted to Celcius.')\n",
        "else:\n",
        "    print('\\u274C Oops - your data are not correct.')\n",
        "print('You earned {} of 5 points for subsetting'.format(points))"
      ]
    },
    {
      "cell_type": "markdown",
      "id": "b36ccec2-6baf-42aa-83fc-975db0a8b4a2",
      "metadata": {},
      "source": [
        "## Now we are ready to calculate annual statistics\n",
        "\n",
        "Here you will **resample** the 1983-2023 data to look the annual mean\n",
        "values.\n",
        "\n",
        "> **<i class=\"fa fa-solid fa-keyboard fa-large\" aria-label=\"keyboard\"></i>\n",
        "> Resample your data**\n",
        ">\n",
        "> 1.  Replace `new_dataframe` with the variable you created in the cell\n",
        ">     above where you subset the data\n",
        "> 2.  Replace `'TIME'` with a `'W'`, `'M'`, or `'Y'` depending on\n",
        ">     whether you’re doing a weekly, monthly, or yearly summary\n",
        "> 3.  Replace `STAT` with a `sum`, `min`, `max`, or `mean` depending on\n",
        ">     what kind of statistic you’re interested in calculating.\n",
        "> 4.  Replace `resampled_data` with a more expressive variable name\n",
        "> 5.  Call your new variable\n",
        "> 6.  Run the cell"
      ]
    },
    {
      "cell_type": "code",
      "execution_count": 26,
      "id": "afa726d2",
      "metadata": {},
      "outputs": [],
      "source": [
        "# Resample the data to look at yearly mean values\n",
        "resampled_data = new_dataframe.resample('TIME').STAT()\n",
        "resampled_data"
      ]
    },
    {
      "cell_type": "code",
      "execution_count": 28,
      "id": "59598ab5",
      "metadata": {},
      "outputs": [],
      "source": [
        "# DO NOT MODIFY THIS TEST CELL\n",
        "df_resp = _\n",
        "points = 0\n",
        "\n",
        "if isinstance(df_resp, pd.DataFrame):\n",
        "    points += 1\n",
        "    print('\\u2705 Great work! You called a DataFrame.')\n",
        "else:\n",
        "    print('\\u274C Oops - make sure to call your DataFrame for testing.')\n",
        "\n",
        "summary = [round(val, 2) for val in df_resp.mean().values]\n",
        "if summary == [0.06, 55.37, 12.99]:\n",
        "    points += 5\n",
        "    print('\\u2705 Great work! You correctly converted to Celcius.')\n",
        "else:\n",
        "    print('\\u274C Oops - your data are not correct.')\n",
        "print('You earned {} of 5 points for resampling'.format(points))"
      ]
    },
    {
      "cell_type": "markdown",
      "id": "8541592e-7dc7-48c0-ac0f-953b752a2eb5",
      "metadata": {},
      "source": [
        "> **<i class=\"fa fa-solid fa-keyboard fa-large\" aria-label=\"keyboard\"></i>\n",
        "> Plot your resampled data**"
      ]
    },
    {
      "cell_type": "code",
      "execution_count": 29,
      "id": "08ea51c9",
      "metadata": {},
      "outputs": [],
      "source": [
        "# Plot mean annual temperature values"
      ]
    },
    {
      "cell_type": "markdown",
      "id": "3209f1e7-05ad-404f-a460-c8a5460a629e",
      "metadata": {},
      "source": [
        "------------------------------------------------------------------------\n",
        "\n",
        "> **<i class=\"fa fa-solid fa-pencil fa-large\" aria-label=\"pencil\"></i>\n",
        "> Describe your plot**\n",
        ">\n",
        "> We like to use an approach called “Assertion-Evidence” for presenting\n",
        "> scientific results. There’s a lot of video tutorials and example talks\n",
        "> available on [the Assertion-Evidence web\n",
        "> page](https://www.assertion-evidence.com/). The main thing you need to\n",
        "> do now is to practice writing a **message** or **headline** rather\n",
        "> than descriptions or topic sentences for the plot you just made (what\n",
        "> they refer to as “visual evidence”).\n",
        ">\n",
        "> For example, it would be tempting to write something like “A plot of\n",
        "> maximum annual temperature in Rapid City, Colorado over time\n",
        "> (1983-2023)”. However, this doesn’t give the reader anything to look\n",
        "> at, or explain why we made this particular plot (we know, you made\n",
        "> **this** one because we told you to)\n",
        ">\n",
        "> Some alternatives for different plots of Rapid City temperature that\n",
        "> are more of a starting point for a presentation or conversation are:\n",
        ">\n",
        "> -   Rapid City, SD experienced cooler than average temperatures in\n",
        ">     1995\n",
        "> -   Temperatures in Rapid City, SD appear to be on the rise over the\n",
        ">     past 40 years\n",
        "> -   Maximum annual temperatures in Rapid City, CO are becoming more\n",
        ">     variable over the previous 40 years\n",
        ">\n",
        "> We could back up some of these claims with further analysis included\n",
        "> later on, but we want to make sure that our audience has some guidance\n",
        "> on what to look for in the plot.\n",
        "\n",
        "------------------------------------------------------------------------"
      ]
    },
    {
      "cell_type": "markdown",
      "id": "69fa0ce8-0fcc-4100-bb30-ea6b569393fe",
      "metadata": {},
      "source": [
        "## **YOUR Rapid City PLOT HEADLINE HERE** 📰 🗞️ 📻\n",
        "\n",
        "*Describe your plot in this cell in 2-3 sentences*\n",
        "\n",
        "<figure>\n",
        "<img\n",
        "src=\"https://pics.craiyon.com/2023-07-12/1d858937f1104df68803a2994c90453a.webp\"\n",
        "alt=\"Writing bear\" />\n",
        "<figcaption aria-hidden=\"true\">Writing bear</figcaption>\n",
        "</figure>\n",
        "\n",
        "> Image credit: https://www.craiyon.com/image/OAbZtyelSoS7FdGko6hvQg"
      ]
    },
    {
      "cell_type": "markdown",
      "id": "ef31218b-b5c8-42a6-94ac-43c4439ec3d1",
      "metadata": {},
      "source": [
        "------------------------------------------------------------------------\n",
        "\n",
        "# **THIS ISN’T THE END!** 😄\n",
        "\n",
        "**Don’t forget to *reproduce your analysis* in a new location or time!**\n",
        "\n",
        "<img src=\"https://static.independent.co.uk/s3fs-public/thumbnails/image/2008/12/26/20/107000.jpg\" height=\"150\" style=\"padding: 1em; border-style: solid; border-color: grey;\"/>\n",
        "\n",
        "> Image source:\n",
        "> https://www.independent.co.uk/climate-change/news/by-the-left-quick-march-the-emperor-penguins-migration-1212420.html\n",
        "\n",
        "------------------------------------------------------------------------\n",
        "\n",
        "## Your turn: pick a new location and/or measurement to plot 🌏 📈\n",
        "\n",
        "Below (or in a new notebook!), recreate the workflow you just did in a\n",
        "place that interests you OR with a different measurement. See the\n",
        "instructions above to adapt the URL that we created for Rapid City, CO\n",
        "using the NCEI API. You will need to make your own new Markdown and Code\n",
        "cells below this one, or create a new notebook.\n",
        "\n",
        "------------------------------------------------------------------------\n",
        "\n",
        "## **Congratulations, you’re almost done with this coding challenge** 🤩 – now make sure that your code is *reproducible*\n",
        "\n",
        "<img src=\"https://dfwurbanwildlife.com/wp-content/uploads/2018/03/SnowGeese16.jpg\" height=\"150\" style=\"padding: 1em; border-style: solid; border-color: grey;\"/>\n",
        "\n",
        "> Image source:\n",
        "> https://dfwurbanwildlife.com/2018/03/25/chris-jacksons-dfw-urban-wildlife/snow-geese-galore/\n",
        "\n",
        "> **<i class=\"fa fa-solid fa-keyboard fa-large\" aria-label=\"keyboard\"></i>\n",
        "> Your task**\n",
        ">\n",
        "> 1.  If you didn’t already, go back to the code you modified about and\n",
        ">     write more descriptive **comments** so the next person to use this\n",
        ">     code knows what it does.\n",
        ">\n",
        "> <!-- -->\n",
        ">\n",
        "> 1.  Make sure to `Restart` and `Run all` up at the top of your\n",
        ">     notebook. This will clear all your variables and make sure that\n",
        ">     your code runs in the correct order. It will also export your work\n",
        ">     in Markdown format, which you can put on your website.\n",
        ">\n",
        "> > **Always run your code start to finish before submitting!**\n",
        "> >\n",
        "> > Before you commit your work, make sure it runs **reproducibly** by\n",
        "> > clicking:\n",
        "> >\n",
        "> > 1.  `Restart` (this button won’t appear until you’ve run some code),\n",
        "> >     then\n",
        "> > 2.  `Run All`\n",
        "\n",
        "------------------------------------------------------------------------\n",
        "\n",
        "## BONUS: Create a shareable Markdown of your work\n",
        "\n",
        "Below is some code that you can run that will save a Markdown file of\n",
        "your work that is easily shareable and can be uploaded to GitHub Pages.\n",
        "You can use it as a starting point for writing your portfolio post!"
      ]
    },
    {
      "cell_type": "code",
      "execution_count": 30,
      "id": "e7c67c4b",
      "metadata": {},
      "outputs": [],
      "source": [
        "%%capture\n",
        "%%bash\n",
        "jupyter nbconvert *.ipynb --to markdown"
      ]
    }
  ],
  "metadata": {
    "kernelspec": {
      "display_name": "Python 3 (ipykernel)",
      "language": "python",
      "name": "python3"
    },
    "language_info": {
      "codemirror_mode": {
        "name": "ipython",
        "version": 3
      },
      "file_extension": ".py",
      "mimetype": "text/x-python",
      "name": "python",
      "nbconvert_exporter": "python",
      "pygments_lexer": "ipython3",
      "version": "3.11.6"
    }
  },
  "nbformat": 4,
  "nbformat_minor": 5
}
